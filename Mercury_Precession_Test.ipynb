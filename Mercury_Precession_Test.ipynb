{
 "cells": [
  {
   "cell_type": "code",
   "execution_count": 1,
   "metadata": {
    "collapsed": true
   },
   "outputs": [],
   "source": [
    "# Imports\n",
    "from methods import *\n",
    "from __future__ import division\n",
    "import numpy as np\n",
    "import matplotlib.pyplot as plt\n",
    "from scipy.integrate import odeint\n",
    "from matplotlib import animation\n",
    "from matplotlib.path import Path\n",
    "import matplotlib.patches as patches\n",
    "from mpl_toolkits.mplot3d import Axes3D\n",
    "\n",
    "plt.rcParams.update({'font.size': 12})"
   ]
  },
  {
   "cell_type": "code",
   "execution_count": 55,
   "metadata": {
    "collapsed": false
   },
   "outputs": [],
   "source": [
    "def argument_perihelion(somega,bomega):\n",
    "    return somega-bomega\n",
    "\n",
    "def mean_anomaly(L,somega,b,c,s,f,T=-2451545.0/36525):\n",
    "    f=f*np.pi/180\n",
    "    return L-somega+b*T**2+c*np.cos(f*T)+s*np.sin(f*T)\n",
    "\n",
    "def eccentric_anomaly(M,e):\n",
    "    tol=10**(-7)\n",
    "    es= e*180/np.pi\n",
    "    E0=M#+es*np.sin(M*np.pi/180)\n",
    "    delE=0\n",
    "    En=0\n",
    "    En1=0\n",
    "    delM=M-(E0-es*np.sin(E0*np.pi/180))\n",
    "    delE=delM/(1-es*np.cos(E0*np.pi/180))\n",
    "    En1=E0+delE\n",
    "    while(abs(delE)>tol):\n",
    "        En=En1\n",
    "        delM=M-(En-es*np.sin(En*np.pi/180))\n",
    "        delE=delM/(1-e*np.cos(En*np.pi/180))\n",
    "        En1=En+delE\n",
    "    return En1"
   ]
  },
  {
   "cell_type": "code",
   "execution_count": 56,
   "metadata": {
    "collapsed": false
   },
   "outputs": [
    {
     "name": "stdout",
     "output_type": "stream",
     "text": [
      "174.79252722\n",
      "3.06619495013\n"
     ]
    }
   ],
   "source": [
    "M_mercury = mean_anomaly(252.25032350,77.45779628,0,0,0,0)\n",
    "print(M_mercury)\n",
    "E_mercury=eccentric_anomaly(M_mercury,0.20563661)\n",
    "print(E_mercury*np.pi/180)"
   ]
  },
  {
   "cell_type": "code",
   "execution_count": 58,
   "metadata": {
    "collapsed": false
   },
   "outputs": [
    {
     "name": "stdout",
     "output_type": "stream",
     "text": [
      "-2.47311027\n",
      "-0.0438972585869\n"
     ]
    }
   ],
   "source": [
    "M_earth = mean_anomaly(100.46457166,102.93768193,0,0,0,0)\n",
    "print(M_earth)\n",
    "E_earth = eccentric_anomaly(M_earth,0.01671123)\n",
    "print(E_earth*np.pi/180)"
   ]
  },
  {
   "cell_type": "code",
   "execution_count": 7,
   "metadata": {
    "collapsed": false
   },
   "outputs": [
    {
     "name": "stdout",
     "output_type": "stream",
     "text": [
      "0.08116679537456008\n",
      "-13.008066578179992\n"
     ]
    }
   ],
   "source": [
    "# A full Scale Plot of the Solar System(perihelion intitial conditions)\n",
    "#ignoring mars, saturn, neptune and uranus\n",
    "\n",
    "G = 6.67408e-11\n",
    "\n",
    "mm = 3.301e23\n",
    "xm0 = 46.00e9\n",
    "ym0 = 0\n",
    "vxm0 = 0\n",
    "vym0 = 58.98e3\n",
    "\n",
    "mv = 4.8676e24\n",
    "xv0 = 0\n",
    "yv0 = 107.48e9\n",
    "vxv0 = -35.26e3\n",
    "vyv0 = 0\n",
    "\n",
    "me = 5.9726e24\n",
    "xe0 = -147.09e9\n",
    "ye0 = 0\n",
    "vxe0 = 0\n",
    "vye0 = -30.29e3\n",
    "\n",
    "\n",
    "mj = 1.8983e27\n",
    "xj0 = 0\n",
    "yj0 = -740.52e9\n",
    "vxj0 =  13.72e3\n",
    "vyj0 = 0 \n",
    "\n",
    "\n",
    "\n",
    "msun = 1.989e30\n",
    "vysun0 = -(mm * vym0 + mv * vyv0 + me * vye0 + mj * vyj0) / msun\n",
    "vxsun0 = -(mm * vxm0 + mv * vxv0 + me * vxe0 + mj * vxj0) / msun\n",
    "print(vysun0)\n",
    "print(vxsun0)\n",
    "#S0 = np.array([msun, 0, 0, vxsun0, vysun0, mm, xm0, ym0, vxm0, vym0, mv, xv0, yv0, vxv0, vyv0, me, xe0, ye0, vxe0, vye0, mj, xj0, yj0, vxj0, vyj0])\n",
    "#t=np.linspace(0,1e10,1e7+1)\n",
    "#S_solar = odeint(generalSystem2d, S0, t)"
   ]
  },
  {
   "cell_type": "code",
   "execution_count": 3,
   "metadata": {
    "collapsed": false
   },
   "outputs": [],
   "source": [
    "arc_per_cen = 280.6+83.6+152.6\n",
    "arc_per_year = arc_per_cen/100\n",
    "rad_per_year = arc_per_year/206264.806247\n",
    "orbs_per_year = 4.15198363078\n",
    "rad_per_orb = rad_per_year/orbs_per_year\n",
    "\n",
    "angs = Perihelion_1st_Planet(S_solar)\n",
    "orbits = np.linspace(0, len(angs), len(angs))\n",
    "slope, intercept = np.polyfit(orbits, angs, 1)\n",
    "plt.plot(orbits,angs, label = 'data')\n",
    "plt.plot(orbits,slope*orbits+intercept, label = 'fit')\n",
    "plt.plot(orbits,rad_per_orb*orbits+intercept,label = 'Theory')\n",
    "plt.title(\"Precession of Mercury Due To\\nNewtonian Effects of Large planets\")\n",
    "plt.legend()\n",
    "plt.show()"
   ]
  },
  {
   "cell_type": "code",
   "execution_count": 6,
   "metadata": {
    "collapsed": false
   },
   "outputs": [],
   "source": [
    "plt.plot(orbits,angs, label = 'data')\n",
    "plt.plot(orbits,slope*orbits+intercept, label = 'fit')\n",
    "plt.plot(orbits,rad_per_orb*orbits+intercept,label = 'Theory')\n",
    "plt.xlabel('Orbits of Mercury')\n",
    "plt.ylabel(\"Precession of Perihelion in Radians\")\n",
    "plt.title(\"Precession of Mercury Due To\\nNewtonian Effects of Large planets\")\n",
    "plt.legend()\n",
    "plt.show()"
   ]
  },
  {
   "cell_type": "code",
   "execution_count": 18,
   "metadata": {
    "collapsed": false
   },
   "outputs": [],
   "source": [
    "#error plot\n",
    "plt.plot(orbits,slope*orbits+intercept-rad_per_orb*orbits+intercept)\n",
    "plt.show()"
   ]
  },
  {
   "cell_type": "code",
   "execution_count": 4,
   "metadata": {
    "collapsed": false
   },
   "outputs": [
    {
     "name": "stdout",
     "output_type": "stream",
     "text": [
      "6.0345062186686934e-06\n",
      "5.94524495281e-06\n"
     ]
    }
   ],
   "source": [
    "print(rad_per_orb)\n",
    "print(slope)"
   ]
  },
  {
   "cell_type": "code",
   "execution_count": 5,
   "metadata": {
    "collapsed": false
   },
   "outputs": [
    {
     "name": "stdout",
     "output_type": "stream",
     "text": [
      "1.47918094079\n"
     ]
    }
   ],
   "source": [
    "\"Percentage error\"\n",
    "print(100*(rad_per_orb-slope)/rad_per_orb)"
   ]
  },
  {
   "cell_type": "code",
   "execution_count": null,
   "metadata": {
    "collapsed": true
   },
   "outputs": [],
   "source": []
  }
 ],
 "metadata": {
  "kernelspec": {
   "display_name": "Python 3",
   "language": "python",
   "name": "python3"
  },
  "language_info": {
   "codemirror_mode": {
    "name": "ipython",
    "version": 3
   },
   "file_extension": ".py",
   "mimetype": "text/x-python",
   "name": "python",
   "nbconvert_exporter": "python",
   "pygments_lexer": "ipython3",
   "version": "3.4.3"
  }
 },
 "nbformat": 4,
 "nbformat_minor": 0
}
