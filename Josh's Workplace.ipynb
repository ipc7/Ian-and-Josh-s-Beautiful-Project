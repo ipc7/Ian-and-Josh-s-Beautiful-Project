{
 "cells": [
  {
   "cell_type": "code",
   "execution_count": 1,
   "metadata": {
    "collapsed": true
   },
   "outputs": [],
   "source": [
    "# Imports\n",
    "from methods import *\n",
    "from __future__ import division\n",
    "import numpy as np\n",
    "import matplotlib.pyplot as plt\n",
    "from scipy.integrate import odeint\n",
    "from matplotlib import animation\n",
    "from matplotlib.path import Path\n",
    "import matplotlib.patches as patches\n",
    "from mpl_toolkits.mplot3d import Axes3D\n",
    "\n",
    "plt.rcParams.update({'font.size': 12})"
   ]
  },
  {
   "cell_type": "code",
   "execution_count": 55,
   "metadata": {
    "collapsed": false
   },
   "outputs": [],
   "source": [
    "def argument_perihelion(somega,bomega):\n",
    "    return somega-bomega\n",
    "\n",
    "def mean_anomaly(L,somega,b,c,s,f,T=-2451545.0/36525):\n",
    "    f=f*np.pi/180\n",
    "    return L-somega+b*T**2+c*np.cos(f*T)+s*np.sin(f*T)\n",
    "\n",
    "def eccentric_anomaly(M,e):\n",
    "    tol=10**(-7)\n",
    "    es= e*180/np.pi\n",
    "    E0=M#+es*np.sin(M*np.pi/180)\n",
    "    delE=0\n",
    "    En=0\n",
    "    En1=0\n",
    "    delM=M-(E0-es*np.sin(E0*np.pi/180))\n",
    "    delE=delM/(1-es*np.cos(E0*np.pi/180))\n",
    "    En1=E0+delE\n",
    "    while(abs(delE)>tol):\n",
    "        En=En1\n",
    "        delM=M-(En-es*np.sin(En*np.pi/180))\n",
    "        delE=delM/(1-e*np.cos(En*np.pi/180))\n",
    "        En1=En+delE\n",
    "    return En1"
   ]
  },
  {
   "cell_type": "code",
   "execution_count": 56,
   "metadata": {
    "collapsed": false
   },
   "outputs": [
    {
     "name": "stdout",
     "output_type": "stream",
     "text": [
      "174.79252722\n",
      "3.06619495013\n"
     ]
    }
   ],
   "source": [
    "M_mercury = mean_anomaly(252.25032350,77.45779628,0,0,0,0)\n",
    "print(M_mercury)\n",
    "E_mercury=eccentric_anomaly(M_mercury,0.20563661)\n",
    "print(E_mercury*np.pi/180)"
   ]
  },
  {
   "cell_type": "code",
   "execution_count": 58,
   "metadata": {
    "collapsed": false
   },
   "outputs": [
    {
     "name": "stdout",
     "output_type": "stream",
     "text": [
      "-2.47311027\n",
      "-0.0438972585869\n"
     ]
    }
   ],
   "source": [
    "M_earth = mean_anomaly(100.46457166,102.93768193,0,0,0,0)\n",
    "print(M_earth)\n",
    "E_earth = eccentric_anomaly(M_earth,0.01671123)\n",
    "print(E_earth*np.pi/180)"
   ]
  }
 ],
 "metadata": {
  "kernelspec": {
   "display_name": "Python 3",
   "language": "python",
   "name": "python3"
  },
  "language_info": {
   "codemirror_mode": {
    "name": "ipython",
    "version": 3
   },
   "file_extension": ".py",
   "mimetype": "text/x-python",
   "name": "python",
   "nbconvert_exporter": "python",
   "pygments_lexer": "ipython3",
   "version": "3.4.3"
  }
 },
 "nbformat": 4,
 "nbformat_minor": 0
}
