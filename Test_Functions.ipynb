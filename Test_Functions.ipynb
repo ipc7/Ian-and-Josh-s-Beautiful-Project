{
 "cells": [
  {
   "cell_type": "code",
   "execution_count": 1,
   "metadata": {
    "collapsed": true
   },
   "outputs": [],
   "source": [
    "from __future__ import division\n",
    "import numpy as np\n",
    "from numpy import sin,cos,pi\n",
    "from scipy.integrate import odeint\n",
    "import matplotlib.pyplot as plt\n",
    "from matplotlib import animation\n",
    "from matplotlib.path import Path\n",
    "import matplotlib.patches as patches\n",
    "from methods import *"
   ]
  },
  {
   "cell_type": "code",
   "execution_count": 2,
   "metadata": {
    "collapsed": true
   },
   "outputs": [],
   "source": [
    "def test_2d_m_v():\n",
    "    S0 = np.array([1235, 2341235, 21412453246, 2134213566, 241234256, 456457, 3457, 6, -120932509, 2340845, 4, 234, -229, 324, .01])\n",
    "    go0 = generalSystem2d(S0, 0, G=6.67408e-11)\n",
    "    \n",
    "    mass_go0 = np.array([go0[0], go0[5], go0[10]])\n",
    "\n",
    "    mass_result0 = np.array([0, 0, 0])\n",
    "\n",
    "\n",
    "    v_go0 = np.array([go0[1], go0[2], go0[6], go0[7], go0[11], go0[12]])\n",
    "\n",
    "    v_result0 = np.array([2134213566, 241234256, -120932509, 2340845, 324, .01])\n",
    "\n",
    "    np.testing.assert_allclose(mass_go0, mass_result0)\n",
    "    np.testing.assert_allclose(v_go0, v_result0)"
   ]
  },
  {
   "cell_type": "code",
   "execution_count": 3,
   "metadata": {
    "collapsed": true
   },
   "outputs": [],
   "source": [
    "def test_2d_1_body():\n",
    "    S1 = np.array([1, 1, 1, 1, 1])\n",
    "    go1 = generalSystem2d(S1, 0, G=6.67408e-11)\n",
    "\n",
    "    result1 = np.array([0, 1, 1, 0, 0])\n",
    "\n",
    "    np.testing.assert_allclose(go1, result1)"
   ]
  },
  {
   "cell_type": "code",
   "execution_count": 4,
   "metadata": {
    "collapsed": true
   },
   "outputs": [],
   "source": [
    "def test_2d_2_body():\n",
    "    S2 = np.array([1, 1, 1, 1, 1, 1, -1, -1, -1, -1])\n",
    "    go2 = generalSystem2d(S2, 0, G=6.67408e-11)\n",
    "\n",
    "    a = 6.67408e-11/((np.sqrt(8)))**2\n",
    "    ax = a/np.sqrt(2)\n",
    "    ay = a/np.sqrt(2)\n",
    "\n",
    "    result2 = np.array([0, 1, 1, -ax, -ay, 0, -1, -1, ax, ay])\n",
    "\n",
    "    np.testing.assert_allclose(go2, result2)"
   ]
  },
  {
   "cell_type": "code",
   "execution_count": 5,
   "metadata": {
    "collapsed": true
   },
   "outputs": [],
   "source": [
    "def test_2d_3_body():\n",
    "    S3 = np.array([1e10, 1, 1, -1, 1, 1e10, -1, -1, 1, -1, 1e12, 0, 0, 0, 0])\n",
    "    go3 = generalSystem2d(S3, 0, G=6.67408e-11)\n",
    "\n",
    "    a12 = -6.67408e-11 * 1e10/((np.sqrt(8)))**2\n",
    "    a21 = 6.67408e-11 * 1e10/((np.sqrt(8)))**2\n",
    "    a13 = -6.67408e-11 * 1e12/((np.sqrt(2)))**2\n",
    "    a31 = 6.67408e-11 * 1e10/((np.sqrt(2)))**2\n",
    "    a23 = 6.67408e-11 * 1e12/((np.sqrt(2)))**2\n",
    "    a32 = -6.67408e-11 * 1e10/((np.sqrt(2)))**2\n",
    "\n",
    "    a1 = a12 + a13\n",
    "    a2 = a21 + a23\n",
    "    a3 = a31 + a32\n",
    "\n",
    "    ax1 = a1/np.sqrt(2)\n",
    "    ay1 = a1/np.sqrt(2)\n",
    "    ax2 = a2/np.sqrt(2)\n",
    "    ay2 = a2/np.sqrt(2)\n",
    "    ax3 = a3/np.sqrt(2)\n",
    "    ay3 = a3/np.sqrt(2)\n",
    "\n",
    "    result3 = np.array([0, -1, 1, ax1, ay1, 0, 1, -1, ax2, ay2, 0, 0, 0, ax3, ay3])\n",
    "\n",
    "    np.testing.assert_allclose(go3, result3)"
   ]
  },
  {
   "cell_type": "code",
   "execution_count": 6,
   "metadata": {
    "collapsed": false
   },
   "outputs": [],
   "source": [
    "def test_3d_m_v():\n",
    "    S4 = np.array([1235, 2341235, 21412453246, 123124312, 2134213566, 241234256, 7, 456457, 3457, 6, .00000001, -120932509, 2340845, .0000003, 4, 234, -229, 234234, 324, .01, 9876])\n",
    "    go4 = generalSystem3d(S4, 0, G=6.67408e-11)\n",
    "\n",
    "    mass_go4 = np.array([go4[0], go4[7], go4[14]])\n",
    "\n",
    "    mass_result4 = np.array([0, 0, 0])\n",
    "\n",
    "\n",
    "    v_go4 = np.array([go4[1], go4[2], go4[3], go4[8], go4[9], go4[10], go4[15], go4[16], go4[17]])\n",
    "\n",
    "    v_result4 = np.array([2134213566, 241234256, 7, -120932509, 2340845, .0000003, 324, .01, 9876])\n",
    "\n",
    "    np.testing.assert_allclose(mass_go4, mass_result4)\n",
    "    np.testing.assert_allclose(v_go4, v_result4)"
   ]
  },
  {
   "cell_type": "code",
   "execution_count": 7,
   "metadata": {
    "collapsed": false
   },
   "outputs": [],
   "source": [
    "def test_3d_1_body():\n",
    "    S5 = np.array([1, 1, 1, 1, 1, 1, 1])\n",
    "    go5 = generalSystem3d(S5, 0, G=6.67408e-11)\n",
    "\n",
    "    result5 = np.array([0, 1, 1, 1, 0, 0, 0])\n",
    "\n",
    "    np.testing.assert_allclose(go5, result5)"
   ]
  },
  {
   "cell_type": "code",
   "execution_count": 8,
   "metadata": {
    "collapsed": true
   },
   "outputs": [],
   "source": [
    "def test_3d_2_body():\n",
    "    S6 = np.array([1, 1, 1, 1, 1, 1, 1, 1, -1, -1, -1, -1, -1, -1])\n",
    "    go6 = generalSystem3d(S6, 0, G=6.67408e-11)\n",
    "\n",
    "    a = 6.67408e-11/((np.sqrt(12)))**2\n",
    "    ax = a/np.sqrt(3)\n",
    "    ay = a/np.sqrt(3)\n",
    "    az = a/np.sqrt(3)\n",
    "\n",
    "    result6 = np.array([0, 1, 1, 1, -ax, -ay, -az, 0, -1, -1, -1, ax, ay, az])\n",
    "\n",
    "    np.testing.assert_allclose(go6, result6)"
   ]
  },
  {
   "cell_type": "code",
   "execution_count": 9,
   "metadata": {
    "collapsed": false
   },
   "outputs": [],
   "source": [
    "def test_3d_3_body():\n",
    "    S7 = np.array([1e10, 1, 1, 1, 1, 1, 1, 1e10, -1, -1, -1, -1, -1, -1, 1e12, 0, 0, 0, 0, 0, 0])\n",
    "    go7 = generalSystem3d(S7, 0, G=6.67408e-11)\n",
    "\n",
    "    a12 = -6.67408e-11 * 1e10/((np.sqrt(12)))**2\n",
    "    a21 = 6.67408e-11 * 1e10/((np.sqrt(12)))**2\n",
    "    a13 = -6.67408e-11 * 1e12/((np.sqrt(3)))**2\n",
    "    a31 = 6.67408e-11 * 1e10/((np.sqrt(3)))**2\n",
    "    a23 = 6.67408e-11 * 1e12/((np.sqrt(3)))**2\n",
    "    a32 = -6.67408e-11 * 1e10/((np.sqrt(3)))**2\n",
    "\n",
    "    a1 = a12 + a13\n",
    "    a2 = a21 + a23\n",
    "    a3 = a31 + a32\n",
    "\n",
    "    ax1 = a1/np.sqrt(3)\n",
    "    ay1 = a1/np.sqrt(3)\n",
    "    az1 = a1/np.sqrt(3)\n",
    "    ax2 = a2/np.sqrt(3)\n",
    "    ay2 = a2/np.sqrt(3)\n",
    "    az2 = a2/np.sqrt(3)\n",
    "    ax3 = a3/np.sqrt(3)\n",
    "    ay3 = a3/np.sqrt(3)\n",
    "    az3 = a3/np.sqrt(3)\n",
    "\n",
    "    result7 = np.array([0, 1, 1, 1, ax1, ay1, az1, 0, -1, -1, -1, ax2, ay2, az2, 0, 0, 0, 0, ax3, ay3, az3])\n",
    "\n",
    "\n",
    "    np.testing.assert_allclose(go7, result7)"
   ]
  },
  {
   "cell_type": "code",
   "execution_count": 10,
   "metadata": {
    "collapsed": false
   },
   "outputs": [],
   "source": [
    "test_2d_m_v()\n",
    "test_2d_1_body()\n",
    "test_2d_2_body()\n",
    "test_2d_3_body()\n",
    "test_3d_m_v()\n",
    "test_3d_1_body()\n",
    "test_3d_2_body()\n",
    "test_3d_3_body()"
   ]
  },
  {
   "cell_type": "code",
   "execution_count": null,
   "metadata": {
    "collapsed": true
   },
   "outputs": [],
   "source": []
  }
 ],
 "metadata": {
  "kernelspec": {
   "display_name": "Python 3",
   "language": "python",
   "name": "python3"
  },
  "language_info": {
   "codemirror_mode": {
    "name": "ipython",
    "version": 3
   },
   "file_extension": ".py",
   "mimetype": "text/x-python",
   "name": "python",
   "nbconvert_exporter": "python",
   "pygments_lexer": "ipython3",
   "version": "3.4.3"
  }
 },
 "nbformat": 4,
 "nbformat_minor": 0
}
