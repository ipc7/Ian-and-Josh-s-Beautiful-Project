{
 "cells": [
  {
   "cell_type": "code",
   "execution_count": 1,
   "metadata": {
    "collapsed": true
   },
   "outputs": [],
   "source": [
    "from __future__ import division\n",
    "import numpy as np\n",
    "from numpy import sin,cos,pi\n",
    "from scipy.integrate import odeint\n",
    "import matplotlib.pyplot as plt\n",
    "from matplotlib import animation\n",
    "from matplotlib.path import Path\n",
    "import matplotlib.patches as patches\n",
    "from methods import *"
   ]
  },
  {
   "cell_type": "code",
   "execution_count": 2,
   "metadata": {
    "collapsed": true
   },
   "outputs": [],
   "source": [
    "S0 = np.array([1235, 2341235, 21412453246, 2134213566, 241234256, 456457, 3457, 6, -120932509, 2340845, 4, 234, -229, 324, .01])\n",
    "go0 = generalSystem2d(S0, 0, G=6.67408e-11)\n",
    "\n",
    "mass_go0 = np.array([go0[0], go0[5], go0[10]])\n",
    "\n",
    "mass_result0 = np.array([0, 0, 0])\n",
    "\n",
    "\n",
    "v_go0 = np.array([go0[1], go0[2], go0[6], go0[7], go0[11], go0[12]])\n",
    "\n",
    "v_result0 = np.array([2134213566, 241234256, -120932509, 2340845, 324, .01])\n",
    "\n",
    "np.testing.assert_allclose(mass_go0, mass_result0)\n",
    "np.testing.assert_allclose(v_go0, v_result0)"
   ]
  },
  {
   "cell_type": "code",
   "execution_count": 3,
   "metadata": {
    "collapsed": true
   },
   "outputs": [],
   "source": [
    "S1 = np.array([1, 1, 1, 1, 1])\n",
    "go1 = generalSystem2d(S1, 0, G=6.67408e-11)\n",
    "\n",
    "result1 = np.array([0, 1, 1, 0, 0])\n",
    "\n",
    "np.testing.assert_allclose(go1, result1)"
   ]
  },
  {
   "cell_type": "code",
   "execution_count": 4,
   "metadata": {
    "collapsed": true
   },
   "outputs": [],
   "source": [
    "S2 = np.array([1, 1, 1, 1, 1, 1, -1, -1, -1, -1])\n",
    "go2 = generalSystem2d(S2, 0, G=6.67408e-11)\n",
    "\n",
    "a = 6.67408e-11/((np.sqrt(8)))**2\n",
    "ax = a/np.sqrt(2)\n",
    "ay = a/np.sqrt(2)\n",
    "\n",
    "result2 = np.array([0, 1, 1, -ax, -ay, 0, -1, -1, ax, ay])\n",
    "\n",
    "np.testing.assert_allclose(go2, result2)"
   ]
  },
  {
   "cell_type": "code",
   "execution_count": 5,
   "metadata": {
    "collapsed": true
   },
   "outputs": [],
   "source": [
    "S3 = np.array([1e10, 1, 1, -1, 1, 1e10, -1, -1, 1, -1, 1e12, 0, 0, 0, 0])\n",
    "go3 = generalSystem2d(S3, 0, G=6.67408e-11)\n",
    "\n",
    "a12 = -6.67408e-11 * 1e10/((np.sqrt(8)))**2\n",
    "a21 = 6.67408e-11 * 1e10/((np.sqrt(8)))**2\n",
    "a13 = -6.67408e-11 * 1e12/((np.sqrt(2)))**2\n",
    "a31 = 6.67408e-11 * 1e10/((np.sqrt(2)))**2\n",
    "a23 = 6.67408e-11 * 1e12/((np.sqrt(2)))**2\n",
    "a32 = -6.67408e-11 * 1e10/((np.sqrt(2)))**2\n",
    "\n",
    "a1 = a12 + a13\n",
    "a2 = a21 + a23\n",
    "a3 = a31 + a32\n",
    "\n",
    "ax1 = a1/np.sqrt(2)\n",
    "ay1 = a1/np.sqrt(2)\n",
    "ax2 = a2/np.sqrt(2)\n",
    "ay2 = a2/np.sqrt(2)\n",
    "ax3 = a3/np.sqrt(2)\n",
    "ay3 = a3/np.sqrt(2)\n",
    "\n",
    "result3 = np.array([0, -1, 1, ax1, ay1, 0, 1, -1, ax2, ay2, 0, 0, 0, ax3, ay3])\n",
    "\n",
    "np.testing.assert_allclose(go3, result3)"
   ]
  },
  {
   "cell_type": "code",
   "execution_count": null,
   "metadata": {
    "collapsed": true
   },
   "outputs": [],
   "source": []
  }
 ],
 "metadata": {
  "kernelspec": {
   "display_name": "Python 2",
   "language": "python",
   "name": "python2"
  },
  "language_info": {
   "codemirror_mode": {
    "name": "ipython",
    "version": 2
   },
   "file_extension": ".py",
   "mimetype": "text/x-python",
   "name": "python",
   "nbconvert_exporter": "python",
   "pygments_lexer": "ipython2",
   "version": "2.7.10"
  }
 },
 "nbformat": 4,
 "nbformat_minor": 0
}
