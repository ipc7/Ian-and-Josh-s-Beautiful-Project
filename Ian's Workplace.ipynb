{
 "cells": [
  {
   "cell_type": "markdown",
   "metadata": {},
   "source": [
    "# Paper description\n",
    "\n",
    "The final paper should present\n",
    "\n",
    "1) Introduction: An introduction and explanation of the physics of the chosen problem\n",
    "\n",
    "2) Code Description: A description of the code in English, separate from the actual code.\n",
    "There may be cases where highlighting particularly interesting, novel, or challenge code will be helpful to present a clear picture of what you did.\n",
    "\n",
    "3) Analytic Solution: An analytic solution to a problem in your chosen domain\n",
    "\n",
    "4) Test Cases: The results of a test of your numerical code compared to this analytic solution.\n",
    "\n",
    "5) Description of Full Physical System: A description of the full physical system you will simulate or analyze.\n",
    "\n",
    "6) Results: Initial conditions, tables of numbers, plots.\n",
    "\n",
    "7) Discussion: A dicussion of your results. What was interesting, surprising, expected?\n",
    "\n",
    "8) Future Directions: If you had more time, what would you do? If a future class took over this project, what would be a related but interesting new direction to explore?\n",
    "\n",
    "9) Referencees: Sources referenced for information, equations, examples, diagrams, code, etc.\n",
    "\n",
    "10) Code: This can be done as an appendix that provides guidance to the code files.\n",
    "\n",
    "Everything should be contained in your Github repository. I will grade these by cloning your final repository master."
   ]
  },
  {
   "cell_type": "code",
   "execution_count": null,
   "metadata": {
    "collapsed": true
   },
   "outputs": [],
   "source": [
    "'''Beging drafted work'''"
   ]
  },
  {
   "cell_type": "markdown",
   "metadata": {},
   "source": [
    "## 1) Introduction: An introduction and explanation of the physics of the chosen problem\n",
    "\n",
    "- We chose to look at interesting systems of orbiting bodies. We would take the ODE code we produced in homework set 8 and run further with it. Specifically we wanted to look at precession.\n",
    "\n",
    "- What is precession and how does it work? Types of precession, where it comes from mostly, i.e. newtonian interactions and how we will be looking at that not the other stuff.\n",
    "![](Figures/DI_Herculis_precession.jpg)\n",
    "\n",
    "- How mercury precesses. Lets look at that, if we can model that acurately, because we have accurate stats for it then we can accurately model other stuff.\n",
    "\n",
    "![](Figures/SolarSystem.jpg)\n",
    "\n",
    "- Take it a step further and analyze the effects of altered initial conditions on how much a body will precess.\n"
   ]
  },
  {
   "cell_type": "code",
   "execution_count": null,
   "metadata": {
    "collapsed": true
   },
   "outputs": [],
   "source": [
    "\"\"\"Movies don't appear to work, we should look into this\"\"\""
   ]
  },
  {
   "cell_type": "markdown",
   "metadata": {},
   "source": [
    "## 2) Code Description: A description of the code in English, separate from the actual code.\n",
    "## There may be cases where highlighting particularly interesting, novel, or challenge code will be helpful to present a clear picture of what you did.\n",
    "\n",
    "- We first had the code to have bodies interact gravitationally and then integrate over the time frame we wanted to produce plots of the system over time.\n",
    "- We then wanted to be able to run this integrator system for an arbitrary number of bodies interacting with one another. And subsequently plot these systems.\n",
    "- We also produced the code needed to perform all these plots in three dimensions, however we decided against this once we had clearly focused our project due to the aspect of time.\n",
    "![](Figures/code screenshot.png)\n",
    "- We then wanted to annimate these systems, which was one of the largest challenges we face. We had could produce the data, but then had to read through each snapshot of that data and annimate it.\n",
    "- To produce the animations we had to create inidividual annimation functions for each system we wished to annimate. Each function would create objects that we would plot at each stage of the system. We had to initialize each planet or the sun, as well as a tracing line for each of the planets. Then we would define their initial positions based on our array of possitions. Then we would loop through and add the next position to the image, so the planets would move. The traces would add a line of all the previous positions to the image as well. When the annimation function would run, it would show each step of this code running through, producung an animation of the system.\n",
    "- With the ability to produce these animations we tested it out on a simple case, then a more complicated one in the form of the solar system.\n",
    "![](Final Videos/sun_earth_final.mp4)\n",
    "![](Final Videos/solar_system.mp4)\n",
    "- It was then time to look at the main focus of the project, precession. To do this we decided to induce precession in an arbitrary system as just a test of whether we can create the effect with our system. We first produced an animation of the system we designed to check for visible effects. It was a three body system, a star sized object in the center, with a roughly mercury sized object orbiting in a highly eccentric orbit as well as a roughly saturn sized object orbiting circularly at a mars sized distance. The reason for these choices was becuase the large planet was massive enough to interfere well with the smaller one, but not massive enough to make the star wobble significantly enough to perterb the smaller planet's orbit. The smaller planet was chosen to be small so it wouldn't perterb the larger planet and would be more easily moved by it. The high eccentricity was chosen on because it leads to a larger precession, the higher the eccentricity, the larger the difference in torque placed on the planet by the larger one.\n",
    "- This arbitrary system was plotted and we didn't get much in the way of visible precession. But that was expected because precession takes a very long time. So we needed code to figure out how much a body would precess in the sytem's lifetime.\n",
    "![](Final Videos/precession_3bodies_slow_LONG.mp4)\n",
    "- Code was written up that read through the array of every position of every planet in the system over the whole time period. It would then find the distance from the star of the inner most planet, which was useful because that was the planet we wished to precess in every case. Using the distance from the star, the closest one in each orbit could be found and called the perihellion. Despite the slight innaccuracy of not being the exect perihellion, it would do. Using these positions, an angle could be found between that and the original angle, allowing us to trace the perihellion around the star as the sytem progressed.\n",
    "- With the angle of precession over the number of orbits, and the time space used to produce the system, the precession per orbit and the precession per earth year could be calculated in radians.\n",
    "- A best fit line function could be used to find the precession rate of the star therefore, because the scattering induced by an inaccurate selction of perihellion resulted in a linear trend of precession, but a decent level of noise. We could therefore produce the rate of precession per orbit or per year.\n",
    "- This would be used on our arbitrary system to prove we had precession in the first place\n",
    "![](Figures/Simple Orbit Precession.png)\n",
    "- It was then used on a system of mercury, the sun, jupiter and venus, because they produced the highest ammount of precession in mercury and allowed for a faster system running.\n",
    "- Finally two more functions we written. One that found the eccentricity of a single orbit, the idea being that the eccentricity wouldn't change much over the timespan of the system. To do this the function would simply find the perihellion and the aphelion and plug it into the simple equation and spit out the eccentrcity.\n",
    "- The final function needed was one that could produce the precession rate for mutiple systems all at once. It would take in two arrays, one of masses and one of velocities. The mass array would be the masses of the second, or the interfering planet. The velocity array would be the initial velocities of the precessing planet. One of these arrays would have to be constant however, because to produce useful data with which you can say something, one of these two paramenters had to remain constant. The code would then run the ODE integrator for a set of initial conditions, varrying things for either the mass or velocity arrays. After running for each initial condition set it would calculate the precession rate and eccentricity of that orbit and return both of them.\n",
    "- This was then ran twice using a range of masses and a range of velocities, to gain insight on the effect of interfering mass and eccentricity on precession respecitvely.\n"
   ]
  },
  {
   "cell_type": "code",
   "execution_count": null,
   "metadata": {
    "collapsed": true
   },
   "outputs": [],
   "source": [
    "\"\"\" For this cell I don't have much, maybe you can talk about what you read up on for mercury\"\"\""
   ]
  },
  {
   "cell_type": "markdown",
   "metadata": {},
   "source": [
    "## 3) Analytic Solution: An analytic solution to a problem in your chosen domain\n"
   ]
  },
  {
   "cell_type": "markdown",
   "metadata": {},
   "source": [
    "## 4) Test Cases: The results of a test of your numerical code compared to this analytic solution.\n",
    "\n",
    "- The test fnctions we have a somewhat basic or very image orientated because of the nature of our project. So we have some tests of our general system of ode integrators which prove that they work well and produce the desired results.\n",
    "- We tested for both the 2d and 3d general system functions to make sure they returned correct numbers.\n",
    "- The tests were of four types, one of each for both 2d and 3d:\n",
    "- 1) Check that mass didn't change over the system as well as change in possition was equal to velocity\n",
    "- 2) Check that one body flything through space recieved no acceleration, and maintained constant mass and velocity\n",
    "- 3) Check that two bodies moving in space would accelerate appropriately towards one another, as well as maintain correct velocities and masses. The velocitis would be affected by one another as well whcih was important.\n",
    "- 4) Finally check the same problem for three bodies, adding more than this would be annalytically difficult and tedious.\n",
    "- This was the only easy analytic test we could perform. The rest asside from one final test were visual.\n",
    "- We tested the annimation function with a simple plot to show that we could plot these sorts of things, it was a nice success.\n",
    "- We tested our system to see if things would precess at all using the simple system of 3 bodies, we got this nice plot to prove it.\n",
    "![](Figures/Simple Orbit Precession.png)\n",
    "- The final test so to speak was an analytical one in some regards. It was to test whether or not the precession we were producing was anything near realistic. The result was the plotting of mercury's precession due to jupiter and venus and earth (correct me here josh). We also plotted on the same axis the anticipated precession due to these three bodies. This was nice because we could check exactly how well we were simulating things, as opposed to looking at the real precession and saying, oh we're off by a bit, but that can be explained by the other planets and GR stuff. Nope we had the real deal and it's awesome.\n",
    "![](Figures/mercury precession due to significant bodies.png)"
   ]
  },
  {
   "cell_type": "markdown",
   "metadata": {},
   "source": [
    "## 5) Description of Full Physical System: A description of the full physical system you will simulate or analyze.\n",
    "\n",
    "- We were looking at several systems worth analyzing, but there were two basic ones, the precession of mercury due to jupiter venus and earth as well as the precession of a small planet on an eccentric orbit due to a large planet nearby on a circular orbit.\n",
    "- The Mercury system was simply an accurate representation of the sun with mercury, venus, earth and jupiter orbiting. The perihellion of each one of mercury's orbits would be taken by our functions alloing us to annalyze the precession of the orbit due to these three other planets, the ones that induce the largest ammounts of precession (based on our research)\n",
    "- The arbitrary system was designed to analyze the change in eccentricity and interference mass and what effects they have on the precession rate. With altered mass of planet 2 and altered initial velocity of planet 1, the interference mass and eccentricity could be altered. With these results, the precession rate could be plotted against interference mass and eccentricity for enough data points to show a trend."
   ]
  },
  {
   "cell_type": "markdown",
   "metadata": {},
   "source": [
    "## 6) Results: Initial conditions, tables of numbers, plots.\n",
    "\n",
    "- We found that our code produced accurate precession as can be seen here thanks to the highly interfering planets in mercury's orbit\n",
    "![](Figures/mercury precession due to significant bodies.png)\n",
    "- We then found that the precession rate for an increasing interfering mass was also increasing and linear in nature\n",
    "![](Figures/mass_dots_lin.png)\n",
    "- The precession rate for a changing eccentricity was a little different however\n",
    "![](Figures/vel_dots_lin.png)"
   ]
  },
  {
   "cell_type": "markdown",
   "metadata": {},
   "source": [
    "## 7) Discussion: A dicussion of your results. What was interesting, surprising, expected?\n",
    "\n",
    "- So we had god methodology, proven by our mercury precession.\n",
    "- We then had to results, for a higher mass a higher precession in a linear relationship. As well as a slightly stranger result for eccentricity.\n",
    "- The more mass the more precession makes perfect sence, it also makes sense why it would be linear, mass's relationship in gravitational forces is linear.\n",
    "- The higher eccentricity was odd though. I expected to see an increase in eccentricity lead to an increase in precession over the whole range of eccentricities. The reason I expected this was because a circular orbit can't precess. So I assumed a small increase in eccentricty would result in a small increase in the differeing torques of our interfering planet, therefore leading to a small increase in precession. But we actually saw that a nearly circular orbit was almost as good as a highly eccentric one and that a slightly more eccentric orbit that almost circular was actually best. I'm not actually sure why this would be the case currectly.\n",
    "- The latter part of the plot makes a little more sense though, although it doesn't exaclty show a clear trend of linearity or exponential or whatever. But it is an upwards trend, mirroring my original expectaton that I explained earlier."
   ]
  },
  {
   "cell_type": "markdown",
   "metadata": {},
   "source": [
    "## 8) Future Directions: If you had more time, what would you do? If a future class took over this project, what would be a related but interesting new direction to explore?\n",
    "\n",
    "- 3d stuff\n",
    "- nail down mercury's precession for the whole solar system, since we couldn't get it without seeing weird wobbles, whether we talk about that in our final submission or not is up to you.\n",
    "- general relativity results included in our orbital equations\n",
    "- look at the precession of moons, maybe look into tidal forces and that sort of stuff"
   ]
  },
  {
   "cell_type": "markdown",
   "metadata": {},
   "source": [
    "## 9) Referencees: Sources referenced for information, equations, examples, diagrams, code, etc."
   ]
  },
  {
   "cell_type": "markdown",
   "metadata": {},
   "source": [
    "## 10) Code: This can be done as an appendix that provides guidance to the code files.\n",
    "\n",
    "- I guess we should just briefly summarize each function and how it works here"
   ]
  },
  {
   "cell_type": "code",
   "execution_count": null,
   "metadata": {
    "collapsed": true
   },
   "outputs": [],
   "source": []
  }
 ],
 "metadata": {
  "kernelspec": {
   "display_name": "Python 2",
   "language": "python",
   "name": "python2"
  },
  "language_info": {
   "codemirror_mode": {
    "name": "ipython",
    "version": 2
   },
   "file_extension": ".py",
   "mimetype": "text/x-python",
   "name": "python",
   "nbconvert_exporter": "python",
   "pygments_lexer": "ipython2",
   "version": "2.7.10"
  }
 },
 "nbformat": 4,
 "nbformat_minor": 0
}
