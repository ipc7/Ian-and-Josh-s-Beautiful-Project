{
 "cells": [
  {
   "cell_type": "code",
   "execution_count": 14,
   "metadata": {
    "collapsed": true
   },
   "outputs": [],
   "source": [
    "from __future__ import division\n",
    "import numpy as np\n",
    "from numpy import sin,cos,pi\n",
    "from scipy.integrate import odeint\n",
    "import matplotlib.pyplot as plt\n",
    "from matplotlib import animation\n",
    "from matplotlib.path import Path\n",
    "import matplotlib.patches as patches\n",
    "\n",
    "def generalSystem2d(S,t,G=6.67408e-11):\n",
    "    #S0 includes m formatted mi,xi,yi,zi,vxi,vyi,vzi\n",
    "    #G=6.67408e-11\n",
    "    #print(S0)\n",
    "    N=len(S)//5\n",
    "    x = np.zeros(N)\n",
    "    y = np.zeros(N)\n",
    "    vx = np.zeros(N)\n",
    "    vy = np.zeros(N)\n",
    "    m = np.zeros(N)\n",
    "\n",
    "    xr3 = np.zeros((N,N))\n",
    "    yr3 = np.zeros((N,N))\n",
    "\n",
    "    dvx = np.zeros(N)\n",
    "    dvy = np.zeros(N)\n",
    "\n",
    "    dm = np.zeros(N)\n",
    "\n",
    "    for i in range(N):\n",
    "        m[i] = S[5*i]\n",
    "        x[i] = S[5*i+1]\n",
    "        y[i] = S[5*i+2]\n",
    "        vx[i] = S[5*i+3]\n",
    "        vy[i] = S[5*i+4]\n",
    "\n",
    "\n",
    "    for i in range(N):\n",
    "        for j in range(N):\n",
    "            if(i!=j):\n",
    "                r = np.sqrt((x[i]-x[j])**2+(y[i]-y[j])**2)\n",
    "                xr3[i][j] = (x[i]-x[j])/(r**3)\n",
    "                yr3[i][j] = (y[i]-y[j])/(r**3)\n",
    "\n",
    "\n",
    "    for i in range(N):\n",
    "        for j in range(N):\n",
    "            if(i!=j):\n",
    "                dvx[i] = dvx[i]-G*m[j]*xr3[i][j]\n",
    "                dvy[i] = dvy[i]-G*m[j]*yr3[i][j]\n",
    "\n",
    "\n",
    "    return_array = np.array([])\n",
    "\n",
    "    for i in range(N):\n",
    "        return_array = np.append(return_array,[dm[i],vx[i],vy[i],dvx[i],dvy[i]])\n",
    "\n",
    "    return return_array"
   ]
  },
  {
   "cell_type": "code",
   "execution_count": 29,
   "metadata": {
    "collapsed": true
   },
   "outputs": [],
   "source": [
    "def PlanetPlot(orbits):\n",
    "    x_set = np.array([orbits[:,1],orbits[:,6],orbits[:,11]])\n",
    "    y_set = np.array([orbits[:,2],orbits[:,7],orbits[:,12]])\n",
    "    \n",
    "    #x_set = np.array([orbits[:,1],orbits[:,6]])\n",
    "    #y_set = np.array([orbits[:,2],orbits[:,7]])\n",
    "\n",
    "    fig = plt.figure(figsize=(8,6))\n",
    "    lim = x_set[1][0]\n",
    "    ax = plt.axes(xlim=(-2*lim, 2*lim), ylim=(-1.4*lim, 1.4*lim))\n",
    "    \n",
    "    sun = plt.Circle((x_set[0][0],y_set[0][0]),6e9,fc = 'y')\n",
    "    earth = plt.Circle((x_set[1][0],y_set[1][0]),4.6e9,fc = 'b')\n",
    "    moon = plt.Circle((x_set[2][0],y_set[2][0]),2.3e9,fc = 'r')\n",
    "    line, = ax.plot([], [])\n",
    "    \n",
    "    def init():\n",
    "        sun.center= (x_set[0][0],y_set[0][0])\n",
    "        ax.add_patch(sun)\n",
    "        earth.center=(x_set[1][0],y_set[1][0])\n",
    "        ax.add_patch(earth)\n",
    "        moon.center=(x_set[2][0],y_set[2][0])\n",
    "        ax.add_patch(moon)\n",
    "        line.set_data(x_set[1][0],y_set[1][0])\n",
    "        return sun,earth,line\n",
    "\n",
    "    def animate(i):\n",
    "        sun.center = (x_set[0][i],y_set[0][i])\n",
    "        earth.center = (x_set[1][i],y_set[1][i])\n",
    "        moon.center = (x_set[2][i],y_set[2][i])\n",
    "        line.set_data(x_set[1][0:i],y_set[1][0:i])\n",
    "        return sun,earth,line\n",
    "\n",
    "    anim = animation.FuncAnimation(fig, animate, \n",
    "                               init_func=init, \n",
    "                               frames=np.arange(1,9997), \n",
    "                               interval=10,\n",
    "                               blit=False,repeat=False)\n",
    "    #FFwriter = animation.FFMpegWriter(fps=30)\n",
    "    #anim.save('orbitsweep.mp4',writer = FFwriter)\n",
    "    plt.show()"
   ]
  },
  {
   "cell_type": "code",
   "execution_count": 30,
   "metadata": {
    "collapsed": false
   },
   "outputs": [
    {
     "name": "stdout",
     "output_type": "stream",
     "text": [
      "Excess work done on this call (perhaps wrong Dfun type).\n",
      "Run with full_output = 1 to get quantitative information.\n"
     ]
    }
   ],
   "source": [
    "G=6.67408e-11\n",
    "d=1\n",
    "me=5.97219e24\n",
    "xe0=149.6e9\n",
    "ye0=0\n",
    "ze0=0\n",
    "vye0=29814\n",
    "ms=1.989e30\n",
    "mm=7.34767309e22\n",
    "vym0=1025+vye\n",
    "xm=384.4e6+xe0\n",
    "S0=np.array([ms,0,0,0,0,me,xe0,ye0,0,vye0,mm,xm,0,0,vym0])\n",
    "#S0=np.array([ms,0,0,0,0,me,xe0,ye0,0,vye0])\n",
    "t=np.linspace(0,1e10,10001)\n",
    "S1=odeint(generalSystem2d,S0,t)\n",
    "PlanetPlot(S1)"
   ]
  },
  {
   "cell_type": "code",
   "execution_count": null,
   "metadata": {
    "collapsed": true
   },
   "outputs": [],
   "source": []
  }
 ],
 "metadata": {
  "kernelspec": {
   "display_name": "Python 3",
   "language": "python",
   "name": "python3"
  },
  "language_info": {
   "codemirror_mode": {
    "name": "ipython",
    "version": 3
   },
   "file_extension": ".py",
   "mimetype": "text/x-python",
   "name": "python",
   "nbconvert_exporter": "python",
   "pygments_lexer": "ipython3",
   "version": "3.4.3"
  }
 },
 "nbformat": 4,
 "nbformat_minor": 0
}
