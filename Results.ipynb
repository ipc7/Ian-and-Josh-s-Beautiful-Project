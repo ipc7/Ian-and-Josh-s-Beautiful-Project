{
 "cells": [
  {
   "cell_type": "code",
   "execution_count": null,
   "metadata": {
    "collapsed": false
   },
   "outputs": [],
   "source": [
    "# Imports\n",
    "from methods import *\n",
    "from __future__ import division\n",
    "import numpy as np\n",
    "import matplotlib.pyplot as plt\n",
    "from scipy.integrate import odeint\n",
    "from matplotlib import animation\n",
    "from matplotlib.path import Path\n",
    "import matplotlib.patches as patches\n",
    "from mpl_toolkits.mplot3d import Axes3D"
   ]
  },
  {
   "cell_type": "code",
   "execution_count": null,
   "metadata": {
    "collapsed": false
   },
   "outputs": [],
   "source": [
    "# The first test of our annimation and our general system\n",
    "\n",
    "me=5.97219e24\n",
    "xe0=149.6e9\n",
    "ye0=0\n",
    "ze0=0\n",
    "vye0=29814\n",
    "\n",
    "msun=1.989e30\n",
    "vysun0 = - (me*vye0)/msun\n",
    "\n",
    "S0=np.array([msun,0,0,0,vysun0,me,xe0,ye0,0,vye0])\n",
    "t=np.linspace(0,2*31556926,10001)\n",
    "S1=odeint(generalSystem2d,S0,t)"
   ]
  },
  {
   "cell_type": "code",
   "execution_count": null,
   "metadata": {
    "collapsed": false
   },
   "outputs": [],
   "source": [
    "PlanetPlot2planets(S1)"
   ]
  },
  {
   "cell_type": "code",
   "execution_count": null,
   "metadata": {
    "collapsed": true
   },
   "outputs": [],
   "source": [
    "# A full Scale Plot of the Solar System mean(average) initial conditions\n",
    "\n",
    "G = 6.67408e-11\n",
    "\n",
    "mm = 3.301e23\n",
    "xm0 = 57.9e9\n",
    "ym0 = 0\n",
    "vxm0 = 0\n",
    "vym0 = 47.362e3\n",
    "\n",
    "mv = 4.87e24\n",
    "xv0 = 108.2e9\n",
    "yv0 = 0\n",
    "vxv0 = 0\n",
    "vyv0 = 35.0214e3\n",
    "\n",
    "me = 5.9726e24\n",
    "xe0 = 149.6e9\n",
    "ye0 = 0\n",
    "vxe0 = 0\n",
    "vye0 = 29.7859e3\n",
    "\n",
    "mma = 6.42e23\n",
    "xma0 = 227.9e9\n",
    "yma0 = 0\n",
    "vxma0 = 0\n",
    "vyma0 = 24.1309e3\n",
    "\n",
    "mj = 1.90e27\n",
    "xj0 = 778.3e9\n",
    "yj0 = 0\n",
    "vxj0 = 0\n",
    "vyj0 = 13.0697e3\n",
    "\n",
    "ms = 5.68e26\n",
    "xs0 = 1427.0e9\n",
    "ys0 = 0\n",
    "vxs0 = 0\n",
    "vys0 = 9.6624e3\n",
    "\n",
    "mu = 8.68e25\n",
    "xu0 = 2871.0e9\n",
    "yu0 = 0\n",
    "vxu0 = 0\n",
    "vyu0 = 6.8352e3\n",
    "\n",
    "mn = 1.02e26\n",
    "xn0 = 4497.1e9\n",
    "yn0 = 0\n",
    "vxn0 = 0\n",
    "vyn0 = 5.4778e3\n",
    "\n",
    "msun = 1.989e30\n",
    "vysun0 = -(mm * vym0 + mv * vyv0 + me * vye0 + mma * vyma0 + mj * vyj0 + ms * vys0 + mu * vyu0 + mn * vyn0) / msun\n",
    "\n",
    "S0 = np.array([msun, 0, 0, 0, 0, mm, xm0, ym0, vxm0, vym0, mv, xv0, yv0, vxv0, vyv0, me, xe0, ye0, vxe0, vye0, mma, xma0, yma0, vxma0, vyma0, mj, xj0, yj0, vxj0, vyj0, ms, xs0, ys0, vxs0, vys0, mu, xu0, yu0, vxu0, vyu0, mn, xn0, yn0, vxn0, vyn0])\n"
   ]
  },
  {
   "cell_type": "code",
   "execution_count": null,
   "metadata": {
    "collapsed": false
   },
   "outputs": [],
   "source": [
    "# A full Scale Plot of the Solar System(perihelion intitial conditions)\n",
    "\n",
    "G = 6.67408e-11\n",
    "\n",
    "mm = 3.301e23\n",
    "xm0 = 46.00e9\n",
    "ym0 = 0\n",
    "vxm0 = 0\n",
    "vym0 = 47.362e3\n",
    "\n",
    "mv = 4.8676e24\n",
    "xv0 = 107.48e9\n",
    "yv0 = 0\n",
    "vxv0 = 0\n",
    "vyv0 = 35.26e3\n",
    "\n",
    "me = 5.9726e24\n",
    "xe0 = 147.09e9\n",
    "ye0 = 0\n",
    "vxe0 = 0\n",
    "vye0 = 30.29e3\n",
    "\n",
    "mma = 6.4174e23\n",
    "xma0 = 206.62e9\n",
    "yma0 = 0\n",
    "vxma0 = 0\n",
    "vyma0 = 26.50e3\n",
    "\n",
    "mj = 1.8983e27\n",
    "xj0 = 740.52e9\n",
    "yj0 = 0\n",
    "vxj0 = 0\n",
    "vyj0 = 13.72e3\n",
    "\n",
    "ms = 5.6836e26\n",
    "xs0 = 1352.55e9\n",
    "ys0 = 0\n",
    "vxs0 = 0\n",
    "vys0 = 10.18e3\n",
    "\n",
    "mu = 8.6816e25\n",
    "xu0 = 2741.3e9\n",
    "yu0 = 0\n",
    "vxu0 = 0\n",
    "vyu0 = 7.11e3\n",
    "\n",
    "mn = 1.0242e26\n",
    "xn0 = 4444.45e9\n",
    "yn0 = 0\n",
    "vxn0 = 0\n",
    "vyn0 = 5.50e3\n",
    "\n",
    "msun = 1.989e30\n",
    "vysun0 = -(mm * vym0 + mv * vyv0 + me * vye0 + mma * vyma0 + mj * vyj0 + ms * vys0 + mu * vyu0 + mn * vyn0) / msun\n",
    "vxsun0 = -(mm * vxm0 + mv * vxv0 + me * vxe0 + mma * vxma0 + mj * vxj0 + ms * vxs0 + mu * vxu0 + mn * vxn0) / msun\n",
    "\n",
    "S0 = np.array([msun, 0, 0, vxsun0, vysun0, mm, xm0, ym0, vxm0, vym0, mv, xv0, yv0, vxv0, vyv0, me, xe0, ye0, vxe0, vye0, mma, xma0, yma0, vxma0, vyma0, mj, xj0, yj0, vxj0, vyj0, ms, xs0, ys0, vxs0, vys0, mu, xu0, yu0, vxu0, vyu0, mn, xn0, yn0, vxn0, vyn0])\n",
    "t=np.linspace(0,1e10,10001)\n",
    "S_solar = odeint(generalSystem2d, S0, t)"
   ]
  },
  {
   "cell_type": "code",
   "execution_count": null,
   "metadata": {
    "collapsed": true
   },
   "outputs": [],
   "source": [
    "angs = Perihelion_1st_Planet(S_solar)\n",
    "orbits = np.linspace(0, len(angs), len(angs))\n",
    "plt.plot(orbits, angs)\n",
    "plt.show()"
   ]
  },
  {
   "cell_type": "code",
   "execution_count": null,
   "metadata": {
    "collapsed": false
   },
   "outputs": [],
   "source": [
    "SolarSysPlot(S_solar)"
   ]
  },
  {
   "cell_type": "code",
   "execution_count": null,
   "metadata": {
    "collapsed": false
   },
   "outputs": [],
   "source": [
    "S0 = np.array([msun, 0, 0, 0, vysun0, mm, xm0, ym0, vxm0, vym0, mv, xv0, yv0, vxv0, vyv0, me, xe0, ye0, vxe0, vye0, mma, xma0, yma0, vxma0, vyma0, mj, xj0, yj0, vxj0, vyj0, ms, xs0, ys0, vxs0, vys0, mu, xu0, yu0, vxu0, vyu0, mn, xn0, yn0, vxn0, vyn0])\n",
    "t=np.linspace(0,1e10,1e7+1)\n",
    "S_solar = odeint(generalSystem2d, S0, t)\n",
    "\n",
    "angs = Perihelion_1st_Planet(S_solar)\n",
    "orbits = np.linspace(0, len(angs), len(angs))\n",
    "plt.plot(orbits, angs)\n",
    "plt.show()"
   ]
  },
  {
   "cell_type": "code",
   "execution_count": null,
   "metadata": {
    "collapsed": true
   },
   "outputs": [],
   "source": [
    "# An Arbitrary System Designed to induce Precession\n",
    "\n",
    "G = 6.67408e-11\n",
    "\n",
    "msun = 1.989e30\n",
    "vyso = -(5.97e23*123.7859e3+5.90e26*24.1309e3)/1.989e30 \n",
    "\n",
    "m1 = 5.97e23\n",
    "x1o = 149.6e8\n",
    "y1o = 0\n",
    "vx1o = 0\n",
    "vy1o = 123.7859e3\n",
    "\n",
    "m2 = 5.90e26\n",
    "x2o = 227.9e9\n",
    "y2o = 0\n",
    "vx2o = 0\n",
    "vy2o = 24.1309e3\n",
    "\n",
    "S0 = np.array([msun, 0, 0, 0, vyso, m1, x1o, y1o, vx1o, vy1o, m2, x2o, y2o, vx2o, vy2o])\n",
    "t=np.linspace(0,1e10,1e7+1)\n",
    "S1 = odeint(generalSystem2d, S0, t)"
   ]
  },
  {
   "cell_type": "code",
   "execution_count": null,
   "metadata": {
    "collapsed": false
   },
   "outputs": [],
   "source": [
    "Precession_Plot_3_Bodies(S1)"
   ]
  },
  {
   "cell_type": "code",
   "execution_count": null,
   "metadata": {
    "collapsed": false
   },
   "outputs": [],
   "source": [
    "angs = Perihelion_1st_Planet(S1)\n",
    "orbits = np.linspace(0, len(angs), len(angs))\n",
    "slope, intercept = np.polyfit(orbits, angs, 1)\n",
    "plt.plot(orbits, angs)\n",
    "plt.plot(orbits, slope*orbits - intercept)\n",
    "plt.show()"
   ]
  },
  {
   "cell_type": "code",
   "execution_count": null,
   "metadata": {
    "collapsed": false
   },
   "outputs": [],
   "source": [
    "print(slope)"
   ]
  },
  {
   "cell_type": "code",
   "execution_count": null,
   "metadata": {
    "collapsed": true
   },
   "outputs": [],
   "source": [
    "years = (slope * len(orbits) / 1e10) * 3600 * 24 * 365\n"
   ]
  },
  {
   "cell_type": "code",
   "execution_count": null,
   "metadata": {
    "collapsed": true
   },
   "outputs": [],
   "source": []
  }
 ],
 "metadata": {
  "kernelspec": {
   "display_name": "Python 2",
   "language": "python",
   "name": "python2"
  },
  "language_info": {
   "codemirror_mode": {
    "name": "ipython",
    "version": 2
   },
   "file_extension": ".py",
   "mimetype": "text/x-python",
   "name": "python",
   "nbconvert_exporter": "python",
   "pygments_lexer": "ipython2",
   "version": "2.7.10"
  }
 },
 "nbformat": 4,
 "nbformat_minor": 0
}
